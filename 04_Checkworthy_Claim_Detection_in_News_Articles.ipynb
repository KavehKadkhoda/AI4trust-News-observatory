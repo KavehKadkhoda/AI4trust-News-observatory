{
  "cells": [
    {
      "cell_type": "markdown",
      "id": "0af9122c-4efe-4c34-946b-4d7cf283beae",
      "metadata": {
        "id": "0af9122c-4efe-4c34-946b-4d7cf283beae"
      },
      "source": [
        "### 🕵️‍♂️ Check‑worthy Claim Detection\n",
        "\n",
        "The **Check‑worthy Claim Detection** tool flags sentences that deserve human fact‑checking, statements that could misinform the public or have real‑world impact. It helps analysts sift massive news streams and focus on the most important claims.\n",
        "\n",
        "| Key feature | Description |\n",
        "|-------------|-------------|\n",
        "| **Label**   | `1` = check‑worthy, `0` = not |\n",
        "| **Score**   | Confidence from 0 to 1 |\n",
        "| **Granularity** | Whole text **and** per‑segment spans |\n",
        "| **Languages**  | English, Spanish, Italian |\n",
        "| **Model**   | Transformer (BERT/Roberta family) with multi‑task fine‑tuning on factuality signals |\n",
        "\n",
        "\n"
      ]
    },
    {
      "cell_type": "code",
      "execution_count": null,
      "id": "ce9b9903-ff09-43e3-94a3-c00add3433cb",
      "metadata": {
        "id": "ce9b9903-ff09-43e3-94a3-c00add3433cb",
        "outputId": "c9c07f6e-8273-4bdb-f6cf-ef1306d6b5c3"
      },
      "outputs": [
        {
          "name": "stdout",
          "output_type": "stream",
          "text": [
            "Note: you may need to restart the kernel to use updated packages.\n"
          ]
        }
      ],
      "source": [
        "# ─────────────────────────────────────────────────────────────────────────────\n",
        "# 1 ▸ Dependencies (Polars, Matplotlib, Trino client)\n",
        "# ─────────────────────────────────────────────────────────────────────────────\n",
        "%pip install -qU \"trino[sqlalchemy]==0.332.0\" \"polars>=0.19\" matplotlib\n"
      ]
    },
    {
      "cell_type": "code",
      "execution_count": null,
      "id": "8ff234cc-39c5-49d0-86a4-863a757ce200",
      "metadata": {
        "id": "8ff234cc-39c5-49d0-86a4-863a757ce200"
      },
      "outputs": [],
      "source": [
        "\n",
        "# ─────────────────────────────────────────────────────────────────────────────\n",
        "# 2 ▸ Imports and helper functions\n",
        "# ─────────────────────────────────────────────────────────────────────────────\n",
        "import os, re, json, datetime as dt\n",
        "from pathlib import Path\n",
        "import polars as pl\n",
        "import matplotlib.pyplot as plt\n",
        "import matplotlib.dates as mdates\n",
        "from trino.dbapi import connect\n",
        "\n",
        "plt.rcParams[\"figure.dpi\"] = 110  # High-resolution plots for clarity\n",
        "plt.rcParams.update({\"axes.grid\": False, \"figure.facecolor\": \"white\", \"axes.facecolor\": \"white\"})\n",
        "\n",
        "# JSON serialization helpers\n",
        "def _json_default(v):\n",
        "    if isinstance(v, (dt.datetime, dt.date)):\n",
        "        return v.isoformat()\n",
        "    return repr(v)\n",
        "\n",
        "def save_dict(d: dict, path: Path):\n",
        "    \"\"\"Save a dictionary as JSON to the given path (with date handling).\"\"\"\n",
        "    path.write_text(json.dumps(d, default=_json_default))\n",
        "\n",
        "def load_dict(path: Path) -> dict:\n",
        "    \"\"\"Load JSON data from a file into a Python dictionary.\"\"\"\n",
        "    return json.loads(path.read_text())\n",
        "\n",
        "def df_from_data_d(data_d: dict) -> pl.DataFrame:\n",
        "    \"\"\"Recreate a Polars DataFrame from stored JSON data.\"\"\"\n",
        "    df = pl.DataFrame(data_d)\n",
        "    # Convert publish_date strings back to date type if necessary\n",
        "    if \"publish_date\" in df.columns and df[\"publish_date\"].dtype == pl.Utf8:\n",
        "        df = df.with_columns(pl.col(\"publish_date\").str.to_datetime(strict=False).dt.date())\n",
        "    return df\n",
        "\n",
        "# Host/port parser (with default port and validation)\n",
        "def _parse_host_port(host: str, port: str, default_port: int = 8080):\n",
        "    host = (host or \"\").strip()\n",
        "    port = (port or \"\").strip()\n",
        "    # Strip protocol from host if present\n",
        "    host = re.sub(r\"^(?:https?|tcp)://\", \"\", host, flags=re.I)\n",
        "    if \":\" in host and not port:\n",
        "        host, port = host.split(\":\", 1)\n",
        "    try:\n",
        "        port_int = int(re.sub(r\"\\D\", \"\", port))\n",
        "    except ValueError:\n",
        "        port_int = default_port\n",
        "    if not (1 <= port_int <= 65_535):\n",
        "        port_int = default_port\n",
        "    return host or \"localhost\", port_int\n"
      ]
    },
    {
      "cell_type": "code",
      "execution_count": null,
      "id": "d7bb8a6f-485d-4e08-a724-a30bf59df461",
      "metadata": {
        "id": "d7bb8a6f-485d-4e08-a724-a30bf59df461"
      },
      "outputs": [],
      "source": [
        "# ─────────────────────────────────────────────────────────────────────────────\n",
        "# 3 ▸ Parameters (date range, etc.)\n",
        "# ─────────────────────────────────────────────────────────────────────────────\n",
        "LIMIT      = None  # Optional: limit number of rows for testing\n",
        "START_DATE = \"2025-03-01\"\n",
        "END_DATE   = \"2025-07-27\"\n",
        "JSON_PATH  = Path(\"news_tool_checkworthy_claim_detection_daily_positive_counts.json\")\n"
      ]
    },
    {
      "cell_type": "code",
      "execution_count": null,
      "id": "b91ad6e1-fb23-4607-86e0-a46c79bd0829",
      "metadata": {
        "id": "b91ad6e1-fb23-4607-86e0-a46c79bd0829"
      },
      "outputs": [],
      "source": [
        "\n",
        "\n",
        "# ─────────────────────────────────────────────────────────────────────────────\n",
        "# 4 ▸ Connect to Trino\n",
        "# ─────────────────────────────────────────────────────────────────────────────\n",
        "TRINO_HOST, TRINO_PORT = _parse_host_port(os.getenv(\"TRINO_HOST\"), os.getenv(\"TRINO_PORT\"))\n",
        "TRINO_USER    = os.getenv(\"TRINO_USER\", \"jupyter\")\n",
        "TRINO_CATALOG = os.getenv(\"TRINO_CATALOG\", \"iceberg\")\n",
        "# print(f\"🔌 Connecting to Trino at {TRINO_HOST}:{TRINO_PORT}, catalog='{TRINO_CATALOG}'\")\n",
        "\n",
        "conn = connect(host=TRINO_HOST, port=TRINO_PORT, user=TRINO_USER, catalog=TRINO_CATALOG)\n",
        "cur  = conn.cursor()\n"
      ]
    },
    {
      "cell_type": "code",
      "execution_count": null,
      "id": "457012b2-e0c2-4c16-89aa-ee82c3a78c9b",
      "metadata": {
        "id": "457012b2-e0c2-4c16-89aa-ee82c3a78c9b"
      },
      "outputs": [],
      "source": [
        "\n",
        "# ─────────────────────────────────────────────────────────────────────────────\n",
        "# 5 ▸ Run query (with date parsing, filtering, and deduplication by URL)\n",
        "# ─────────────────────────────────────────────────────────────────────────────\n",
        "# Prepare date parsing for created_at (to handle ISO8601 or '%Y-%m-%d %H:%i:%s' formats)\n",
        "parse_created = (\n",
        "    \"COALESCE(\"\n",
        "    \"  CAST(TRY(from_iso8601_timestamp(cn.created_at)) AS timestamp), \"\n",
        "    \"  TRY(date_parse(cn.created_at, '%Y-%m-%d %H:%i:%s'))\"\n",
        "    \")\"\n",
        ")\n",
        "# Build WHERE clauses for date filtering\n",
        "where_clauses = [\"(cn.publish_date IS NOT NULL OR cn.created_at IS NOT NULL)\"]\n",
        "if START_DATE:\n",
        "    where_clauses.append(\n",
        "        f\"\"\"COALESCE(\n",
        "                date(from_iso8601_timestamp(cn.publish_date)),\n",
        "                date({parse_created})\n",
        "            ) >= DATE '{START_DATE}'\"\"\"\n",
        "    )\n",
        "if END_DATE:\n",
        "    where_clauses.append(\n",
        "        f\"\"\"COALESCE(\n",
        "                date(from_iso8601_timestamp(cn.publish_date)),\n",
        "                date({parse_created})\n",
        "            ) <= DATE '{END_DATE}'\"\"\"\n",
        "    )\n",
        "cn_where = \" AND \".join(where_clauses)\n",
        "\n",
        "query = f\"\"\"\n",
        "WITH staged AS (\n",
        "    SELECT\n",
        "        cn.id                             AS id_collected_news,\n",
        "        cn.url                            AS url,\n",
        "        cn.publish_date                   AS publish_date,\n",
        "        cn.title                          AS title_collected_news,\n",
        "        cn.text                           AS text,\n",
        "        tccd.title                        AS title_checkworthy_claim_detection,  -- ROW(score, label)\n",
        "        tccd.body                         AS body_checkworthy_claim_detection,   -- ROW(score, label)\n",
        "        tccd.created_at                   AS created_at_tccd,\n",
        "        {parse_created}                   AS created_ts\n",
        "    FROM news.collected_news AS cn\n",
        "    JOIN tools.text_checkworthy_claim_detection AS tccd\n",
        "      ON cn.id = tccd.content_id\n",
        "    WHERE {cn_where}\n",
        "),\n",
        "dedup AS (\n",
        "    SELECT *,\n",
        "           ROW_NUMBER() OVER (PARTITION BY url ORDER BY created_ts) AS rn\n",
        "    FROM staged\n",
        ")\n",
        "SELECT\n",
        "    COALESCE(date(from_iso8601_timestamp(publish_date)), date(created_ts)) AS publish_date,\n",
        "    id_collected_news,\n",
        "    title_collected_news,\n",
        "    text,\n",
        "    title_checkworthy_claim_detection,\n",
        "    body_checkworthy_claim_detection,\n",
        "    created_at_tccd\n",
        "FROM dedup\n",
        "WHERE rn = 1\n",
        "\"\"\"\n",
        "if LIMIT is not None:\n",
        "    query += f\"\\nLIMIT {LIMIT}\"\n",
        "\n",
        "# print(\"⏳ Executing query…\")\n",
        "try:\n",
        "    cur.execute(query)\n",
        "    rows    = cur.fetchall()\n",
        "    columns = [c[0] for c in cur.description]  # e.g., [\"publish_date\", \"id_collected_news\", ...]\n",
        "finally:\n",
        "    cur.close()\n",
        "    conn.close()\n",
        "# if not rows:\n",
        "#     raise ValueError(\"No data found.\")\n",
        "# print(f\"✅ Retrieved {len(rows):,} rows\")\n"
      ]
    },
    {
      "cell_type": "code",
      "execution_count": null,
      "id": "b20cedf5-594c-4eed-b46f-d67f0d9c39f0",
      "metadata": {
        "id": "b20cedf5-594c-4eed-b46f-d67f0d9c39f0"
      },
      "outputs": [],
      "source": [
        "# ─────────────────────────────────────────────────────────────────────────────\n",
        "# 6 ▸ Build Polars DataFrame & parse score/label fields\n",
        "# ─────────────────────────────────────────────────────────────────────────────\n",
        "assert rows is not None and len(columns) > 0, \"No data retrieved from query.\"\n",
        "data_dict = {col: [row[i] for row in rows] for i, col in enumerate(columns)}\n",
        "\n",
        "# Polars may infer mixed types for nested fields (score/label as tuples), so ensure Object type\n",
        "for col in (\"title_checkworthy_claim_detection\", \"body_checkworthy_claim_detection\"):\n",
        "    data_dict[col] = pl.Series(col, data_dict[col], dtype=pl.Object)\n",
        "\n",
        "df = pl.DataFrame(data_dict, strict=False)\n",
        "\n",
        "# Parse the ROW(...) structures into separate score and label columns\n",
        "def _parse_row(v):\n",
        "    \"\"\"Convert a ROW(score, label) value into a (score, label) tuple.\"\"\"\n",
        "    if v is None:\n",
        "        return (None, None)\n",
        "    if isinstance(v, dict):\n",
        "        return (v.get(\"score\"), v.get(\"label\"))\n",
        "    if isinstance(v, tuple) and len(v) == 2:\n",
        "        return v\n",
        "    # Fallback: regex parse from string\n",
        "    m = re.match(r\"\\(?\\s*(?:score\\s*:\\s*)?([0-9.+\\-eE]+)\\s*,\\s*(?:label\\s*:\\s*)?([0-9]+)\\s*\\)?\", str(v))\n",
        "    return (float(m.group(1)), int(m.group(2))) if m else (None, None)\n",
        "\n",
        "df = df.with_columns([\n",
        "    pl.Series(\"score_title\", [p[0] for p in map(_parse_row, df[\"title_checkworthy_claim_detection\"])]),\n",
        "    pl.Series(\"label_title\", [p[1] for p in map(_parse_row, df[\"title_checkworthy_claim_detection\"])]),\n",
        "    pl.Series(\"score_body\",  [p[0] for p in map(_parse_row, df[\"body_checkworthy_claim_detection\"])]),\n",
        "    pl.Series(\"label_body\",  [p[1] for p in map(_parse_row, df[\"body_checkworthy_claim_detection\"])]),\n",
        "])"
      ]
    },
    {
      "cell_type": "code",
      "execution_count": null,
      "id": "e95e815f-b1d2-427d-85d3-c3845814c0d3",
      "metadata": {
        "id": "e95e815f-b1d2-427d-85d3-c3845814c0d3"
      },
      "outputs": [],
      "source": [
        "# ─────────────────────────────────────────────────────────────────────────────\n",
        "# 7-9 ▸ Data cleaning, filtering, deduplication, aggregation, and JSON generation\n",
        "# ─────────────────────────────────────────────────────────────────────────────\n",
        "# Ensure publish_date is of date type and filter out invalid or out-of-range dates\n",
        "df = df.with_columns(pl.col(\"publish_date\").cast(pl.Date)).filter(pl.col(\"publish_date\").is_not_null())\n",
        "# Remove any records prior to 2025\n",
        "df = df.filter(pl.col(\"publish_date\") >= dt.date(2025, 1, 1))\n",
        "# Apply date range filtering (within START_DATE to END_DATE)\n",
        "if START_DATE:\n",
        "    df = df.filter(pl.col(\"publish_date\") >= dt.date.fromisoformat(START_DATE))\n",
        "if END_DATE:\n",
        "    df = df.filter(pl.col(\"publish_date\") <= dt.date.fromisoformat(END_DATE))\n",
        "# (Deduplication by URL was already handled in the SQL query using ROW_NUMBER)\n",
        "# print(f\"After date filter: {df.height:,} rows\")\n",
        "\n",
        "# Aggregate daily counts of positive labels for title and body\n",
        "daily = (df.group_by(\"publish_date\")\n",
        "           .agg([\n",
        "               (pl.col(\"label_body\")  == 1).sum().alias(\"body_positive\"),\n",
        "               (pl.col(\"label_title\") == 1).sum().alias(\"title_positive\")\n",
        "           ])\n",
        "           .sort(\"publish_date\"))\n",
        "\n",
        "# print(daily.head().fetch())  # debug: view a few rows (commented out)\n",
        "\n",
        "# Prepare metadata for plotting and save to JSON\n",
        "plot_meta = {\n",
        "    \"data\"      : daily.to_dict(as_series=False),\n",
        "    \"title\"     : \"Daily count of positive body and title detections\",\n",
        "    \"labels\"    : [\"Body positive (label = 1)\", \"Title positive (label = 1)\"],\n",
        "    \"color_map\" : {\"body_positive\": \"seagreen\", \"title_positive\": \"lightblue\"},\n",
        "    \"chart_type\": \"grouped_bar\",\n",
        "    \"platform\"  : \"News\"\n",
        "}\n",
        "save_dict(plot_meta, JSON_PATH)\n",
        "# print(f\"💾 Saved JSON → {JSON_PATH.resolve()}\")\n"
      ]
    },
    {
      "cell_type": "code",
      "execution_count": null,
      "id": "2b663ca9-c237-42e1-9e5e-68760c0217eb",
      "metadata": {
        "id": "2b663ca9-c237-42e1-9e5e-68760c0217eb",
        "outputId": "7a69ef09-7557-4ae9-c8ac-d84916daf12d"
      },
      "outputs": [
        {
          "data": {
            "image/png": "[encoded data removed]",
            "text/plain": [
              "<Figure size 1320x660 with 1 Axes>"
            ]
          },
          "metadata": {},
          "output_type": "display_data"
        }
      ],
      "source": [
        "\n",
        "\n",
        "# ─────────────────────────────────────────────────────────────────────────────\n",
        "# 10 ▸ Reload JSON & Plot visualization\n",
        "# ─────────────────────────────────────────────────────────────────────────────\n",
        "meta    = load_dict(JSON_PATH)\n",
        "df_plot = df_from_data_d(meta[\"data\"])\n",
        "\n",
        "dates   = df_plot[\"publish_date\"].to_list()\n",
        "body    = df_plot[\"body_positive\"].to_list()\n",
        "title   = df_plot[\"title_positive\"].to_list()\n",
        "x_dates = mdates.date2num([dt.datetime(d.year, d.month, d.day) for d in dates])\n",
        "\n",
        "fig, ax = plt.subplots(figsize=(12, 6))\n",
        "bar_w = 0.4  # width of each bar\n",
        "\n",
        "ax.bar(x_dates - bar_w/2, body,  width=bar_w, color=meta[\"color_map\"][\"body_positive\"],  label=meta[\"labels\"][0])\n",
        "ax.bar(x_dates + bar_w/2, title, width=bar_w, color=meta[\"color_map\"][\"title_positive\"], label=meta[\"labels\"][1])\n",
        "\n",
        "ax.set_xlabel(\"Publish Date\")\n",
        "ax.set_ylabel(\"Number of Articles (label = 1)\")\n",
        "ax.set_title(meta[\"title\"], fontsize=14)\n",
        "ax.xaxis.set_major_locator(mdates.DayLocator(interval=15))\n",
        "ax.xaxis.set_major_formatter(mdates.DateFormatter(\"%Y-%m-%d\"))\n",
        "plt.setp(ax.get_xticklabels(), rotation=45, ha=\"right\")\n",
        "ax.legend(title=\"Detected in\")\n",
        "plt.tight_layout()\n",
        "plt.show()"
      ]
    }
  ],
  "metadata": {
    "kernelspec": {
      "display_name": "Python 3 (ipykernel)",
      "language": "python",
      "name": "python3"
    },
    "language_info": {
      "codemirror_mode": {
        "name": "ipython",
        "version": 3
      },
      "file_extension": ".py",
      "mimetype": "text/x-python",
      "name": "python",
      "nbconvert_exporter": "python",
      "pygments_lexer": "ipython3",
      "version": "3.10.11"
    },
    "colab": {
      "provenance": []
    }
  },
  "nbformat": 4,
  "nbformat_minor": 5
}