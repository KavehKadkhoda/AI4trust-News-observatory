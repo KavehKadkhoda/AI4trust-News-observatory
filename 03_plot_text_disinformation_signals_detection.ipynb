{
  "cells": [
    {
      "cell_type": "markdown",
      "source": [
        "### Disinformation Signal Detection in Text\n",
        "\n",
        "This tool analyzes written content (like news articles or social media posts) to detect **manipulative tactics** often used in disinformation. Instead of just labeling text as true or false, it highlights *how* the content may mislead or emotionally influence readers.\n",
        "\n",
        "---\n",
        "\n",
        "#### 🔍 What It Detects\n",
        "\n",
        "The tool scans for over **40 types of signals**, grouped by tactic:\n",
        "\n",
        "- **Common Signals**: Emotional manipulation, attacks on credibility, black-and-white thinking\n",
        "- **Conspiracy Theory**: Secret plots, “suppressed truths,” anonymous insiders\n",
        "- **Trolling**: Provocative insults, memes, hashtag spam\n",
        "- **Discrediting**: Personal attacks, fake visuals, smear campaigns\n",
        "- **Pseudoscience & Denialism**: Fake science claims, cherry-picked evidence\n",
        "- **Polarization**: Us-vs-them language, exaggerated division\n",
        "- **Hate/Offensive Speech**: Legacy hate and offensive detectors\n",
        "- **Clickbait**: Misleading headlines\n",
        "\n",
        "---\n",
        "\n",
        "#### ⚙️ How It Works\n",
        "\n",
        "- Built on a **multilingual AI model** that supports 8 EU languages  \n",
        "- Uses **prompt-based detection** to ask targeted questions about the text  \n",
        "- Returns a **multi-label output**: a single text can trigger multiple signals  \n",
        "- Works on both full documents and specific text segments\n",
        "\n",
        "---\n",
        "\n",
        "#### 📤 Output Example\n",
        "\n",
        "The tool returns:\n",
        "- A list of detected **signals**\n",
        "- The **confidence score** for each one\n",
        "- The exact **text segment** where the signal was found\n",
        "\n",
        "---\n",
        "\n",
        "#### 🧩 Why It Matters\n",
        "\n",
        "This tool helps:\n",
        "- Understand *how* disinformation is constructed\n",
        "- Visualize and flag risky content\n",
        "- Feed results into broader **risk scoring** systems or dashboards\n"
      ],
      "metadata": {
        "id": "m8EFagE1q3vd"
      },
      "id": "m8EFagE1q3vd"
    },
    {
      "cell_type": "code",
      "execution_count": null,
      "id": "3ef404c7-652e-4680-b247-fca5316d6908",
      "metadata": {
        "id": "3ef404c7-652e-4680-b247-fca5316d6908",
        "outputId": "dcf69707-81f6-4019-e7c3-cb6110ed7668"
      },
      "outputs": [
        {
          "name": "stdout",
          "output_type": "stream",
          "text": [
            "Note: you may need to restart the kernel to use updated packages.\n"
          ]
        }
      ],
      "source": [
        "# 1 ── Install required packages (Polars, Matplotlib, Squarify, Trino client)\n",
        "%pip install -qU \"trino[sqlalchemy]==0.332.0\" polars matplotlib squarify\n"
      ]
    },
    {
      "cell_type": "code",
      "execution_count": null,
      "id": "db76a363-d597-4e4a-9086-5c49f697a5f5",
      "metadata": {
        "id": "db76a363-d597-4e4a-9086-5c49f697a5f5"
      },
      "outputs": [],
      "source": [
        "# 2 ── Imports and helper functions\n",
        "import os, re, json, datetime as dt\n",
        "from pathlib import Path\n",
        "from typing import Optional, Tuple\n",
        "import polars as pl\n",
        "import matplotlib.pyplot as plt\n",
        "import matplotlib.colors as mcolors\n",
        "import squarify\n",
        "from trino.dbapi import connect\n",
        "\n",
        "plt.rcParams[\"figure.dpi\"] = 110  # High-resolution plots for clarity\n",
        "\n",
        "# JSON helpers\n",
        "def _json_default(value):\n",
        "    if isinstance(value, (dt.datetime, dt.date)):\n",
        "        return value.isoformat()\n",
        "    return repr(value)\n",
        "\n",
        "def save_dict(d: dict, path: Path):\n",
        "    path.write_text(json.dumps(d, default=_json_default))\n",
        "\n",
        "def load_dict(path: Path) -> dict:\n",
        "    return json.loads(path.read_text())\n",
        "\n",
        "def df_from_data_d(data_d: dict) -> pl.DataFrame:\n",
        "    return pl.DataFrame(data_d, schema_overrides={\"date\": pl.Datetime})\n",
        "\n",
        "# Host/port parser\n",
        "def _parse_host_port(host: Optional[str], port: Optional[str], default_port: int = 8080) -> Tuple[str, int]:\n",
        "    host = (host or \"\").strip()\n",
        "    port = (port or \"\").strip()\n",
        "    host = re.sub(r\"^(?:https?|tcp)://\", \"\", host, flags=re.I)\n",
        "    if \":\" in host and not port:\n",
        "        host, port = host.split(\":\", 1)\n",
        "    try:\n",
        "        port_int = int(re.sub(r\"\\D\", \"\", port))\n",
        "    except ValueError:\n",
        "        port_int = default_port\n",
        "    if not (1 <= port_int <= 65_535):\n",
        "        port_int = default_port\n",
        "    return host or \"localhost\", port_int\n"
      ]
    },
    {
      "cell_type": "code",
      "execution_count": null,
      "id": "22d63638-85bb-435a-9a7a-7c0382cf0b04",
      "metadata": {
        "id": "22d63638-85bb-435a-9a7a-7c0382cf0b04"
      },
      "outputs": [],
      "source": [
        "\n",
        "# 3 ── Parameters\n",
        "START_DATE = \"2025-03-01\"\n",
        "END_DATE   = \"2025-07-25\"\n",
        "TOP_N      = 20\n",
        "\n",
        "# Trino credentials\n",
        "TRINO_HOST, TRINO_PORT = _parse_host_port(os.getenv(\"TRINO_HOST\"), os.getenv(\"TRINO_PORT\"))\n",
        "TRINO_USER    = os.getenv(\"TRINO_USER\", \"jupyter\")\n",
        "TRINO_CATALOG = os.getenv(\"TRINO_CATALOG\", \"iceberg\")\n"
      ]
    },
    {
      "cell_type": "code",
      "execution_count": null,
      "id": "21e202c0-0e03-493e-9e1b-6490247466f3",
      "metadata": {
        "id": "21e202c0-0e03-493e-9e1b-6490247466f3",
        "outputId": "e3a5eda4-7a63-4312-bc04-ce4ea6da9d7c"
      },
      "outputs": [
        {
          "name": "stdout",
          "output_type": "stream",
          "text": [
            "🔌 Connecting to Trino at trino:8080, catalog='iceberg' (user=trino)\n",
            "✅ Retrieved 233,451 span‑level rows\n"
          ]
        }
      ],
      "source": [
        "# 4 ── Query Trino\n",
        "where = [\"cn.publish_date IS NOT NULL\"]\n",
        "if START_DATE:\n",
        "    where.append(f\"date(from_iso8601_timestamp(cn.publish_date)) >= DATE '{START_DATE}'\")\n",
        "if END_DATE:\n",
        "    where.append(f\"date(from_iso8601_timestamp(cn.publish_date)) <= DATE '{END_DATE}'\")\n",
        "sql = f\"\"\"\n",
        "SELECT seg.tactic AS tactic\n",
        "FROM   news.collected_news AS cn\n",
        "JOIN   tools.text_disinformation_signals_detection AS tdsd\n",
        "       ON cn.id = tdsd.content_id\n",
        "CROSS JOIN UNNEST(tdsd.segment) AS seg (spans, level, name, tactic)\n",
        "CROSS JOIN UNNEST(seg.spans)    AS sp (segment, confidence, start_pos, end_pos, span_value)\n",
        "WHERE  {\" AND \".join(where)}\n",
        "\"\"\"\n",
        "print(f\"🔌 Connecting to Trino at {TRINO_HOST}:{TRINO_PORT}, catalog='{TRINO_CATALOG}' (user={TRINO_USER})\")\n",
        "conn = connect(host=TRINO_HOST, port=TRINO_PORT, user=TRINO_USER, catalog=TRINO_CATALOG)\n",
        "cur  = conn.cursor()\n",
        "try:\n",
        "    cur.execute(sql)\n",
        "    rows = cur.fetchall()\n",
        "    columns = [d[0] for d in cur.description]  # [\"tactic\"]\n",
        "finally:\n",
        "    cur.close(); conn.close()\n",
        "\n",
        "if not rows:\n",
        "    raise ValueError(\"No data found in the selected date range.\")\n",
        "print(f\"✅ Retrieved {len(rows):,} span‑level rows\")\n"
      ]
    },
    {
      "cell_type": "code",
      "execution_count": null,
      "id": "462de21b-4eb3-41ff-93bf-1a0ed810b256",
      "metadata": {
        "id": "462de21b-4eb3-41ff-93bf-1a0ed810b256"
      },
      "outputs": [],
      "source": [
        "\n",
        "# 5 ── Process data\n",
        "df_all = pl.DataFrame(rows, schema=columns, orient=\"row\")\n",
        "counts_df = (\n",
        "    df_all.group_by(\"tactic\")\n",
        "          .agg(pl.len().alias(\"count\"))\n",
        "          .sort(\"count\", descending=True)\n",
        ")\n",
        "top_counts_df = counts_df.head(TOP_N)\n",
        "\n",
        "# Prepare treemap inputs\n",
        "tactics = top_counts_df[\"tactic\"].to_list()\n",
        "counts  = top_counts_df[\"count\"].to_list()\n",
        "\n",
        "palette        = list(plt.get_cmap(\"tab20\").colors)\n",
        "color_map_hex  = {t: mcolors.to_hex(palette[i % len(palette)]) for i, t in enumerate(tactics)}\n",
        "labels         = [f\"{t}\\n{c}\" for t, c in zip(tactics, counts)]\n"
      ]
    },
    {
      "cell_type": "code",
      "execution_count": null,
      "id": "9f3ee2d7-cd72-45f1-aa1c-51b5eaa07aa8",
      "metadata": {
        "id": "9f3ee2d7-cd72-45f1-aa1c-51b5eaa07aa8",
        "outputId": "f9ac67c8-b227-4231-ad22-9632e33e007e"
      },
      "outputs": [
        {
          "name": "stdout",
          "output_type": "stream",
          "text": [
            "💾 Saved JSON → /home/kadkhoda/tactic_treemap.json\n"
          ]
        }
      ],
      "source": [
        "\n",
        "# 6 ── Save metadata to JSON\n",
        "plot_meta = {\n",
        "    \"data\"      : top_counts_df.to_dict(as_series=False),\n",
        "    \"title\"     : \"Treemap – share of each tactic\",\n",
        "    \"labels\"    : labels,\n",
        "    \"color_map\" : color_map_hex,\n",
        "    \"chart_type\": \"treemap\",\n",
        "    \"platform\"  : \"News\"\n",
        "}\n",
        "json_path = Path(\"tactic_treemap.json\")\n",
        "save_dict(plot_meta, json_path)\n",
        "print(f\"💾 Saved JSON → {json_path.resolve()}\")\n"
      ]
    },
    {
      "cell_type": "code",
      "execution_count": null,
      "id": "43af9b6e-f597-4a17-ab2b-f42903c6e597",
      "metadata": {
        "id": "43af9b6e-f597-4a17-ab2b-f42903c6e597",
        "outputId": "9a201a08-8f86-4953-b092-d6dbf3147286"
      },
      "outputs": [
        {
          "data": {
            "image/png": "[encoded data removed]",
            "text/plain": [
              "<Figure size 880x550 with 1 Axes>"
            ]
          },
          "metadata": {},
          "output_type": "display_data"
        }
      ],
      "source": [
        "\n",
        "# 7 ── Load JSON and plot\n",
        "meta = load_dict(json_path)\n",
        "df_loaded = df_from_data_d(meta[\"data\"])\n",
        "tactics_loaded = df_loaded[\"tactic\"].to_list()\n",
        "counts_loaded  = df_loaded[\"count\"].to_list()\n",
        "colors_loaded  = [meta[\"color_map\"][t] for t in tactics_loaded]\n",
        "\n",
        "plt.figure(figsize=(8, 5))\n",
        "squarify.plot(sizes=counts_loaded,\n",
        "              label=meta[\"labels\"],\n",
        "              color=colors_loaded,\n",
        "              alpha=0.85,\n",
        "              text_kwargs={\"fontsize\": 9})\n",
        "plt.title(meta[\"title\"]); plt.axis(\"off\"); plt.show()\n"
      ]
    }
  ],
  "metadata": {
    "kernelspec": {
      "display_name": "Python 3 (ipykernel)",
      "language": "python",
      "name": "python3"
    },
    "language_info": {
      "codemirror_mode": {
        "name": "ipython",
        "version": 3
      },
      "file_extension": ".py",
      "mimetype": "text/x-python",
      "name": "python",
      "nbconvert_exporter": "python",
      "pygments_lexer": "ipython3",
      "version": "3.10.11"
    },
    "colab": {
      "provenance": []
    }
  },
  "nbformat": 4,
  "nbformat_minor": 5
}