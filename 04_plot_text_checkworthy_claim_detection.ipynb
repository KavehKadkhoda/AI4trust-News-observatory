{
  "cells": [
    {
      "cell_type": "markdown",
      "source": [
        "### 🕵️‍♂️ Check‑worthy Claim Detection\n",
        "\n",
        "The **Check‑worthy Claim Detection** tool flags sentences that deserve human fact‑checking—statements that could misinform the public or have real‑world impact. It helps analysts sift massive news streams and focus on the most important claims.\n",
        "\n",
        "| Key feature | Description |\n",
        "|-------------|-------------|\n",
        "| **Label**   | `1` = check‑worthy, `0` = not |\n",
        "| **Score**   | Confidence from 0 to 1 |\n",
        "| **Granularity** | Whole text **and** per‑segment spans |\n",
        "| **Languages**  | English, Spanish, Italian |\n",
        "| **Model**   | Transformer (BERT/Roberta family) with multi‑task fine‑tuning on factuality signals |\n",
        "\n",
        "\n"
      ],
      "metadata": {
        "id": "j4zqnSysDU1m"
      },
      "id": "j4zqnSysDU1m"
    },
    {
      "cell_type": "code",
      "source": [
        "# ─────────────────────────────────────────────────────────────────────────────\n",
        "# 1 ▸ Dependencies  (Polars, Matplotlib, Trino client)\n",
        "# ─────────────────────────────────────────────────────────────────────────────\n",
        "%pip install -qU \"trino[sqlalchemy]==0.332.0\" \"polars>=0.19\" matplotlib\n"
      ],
      "metadata": {
        "id": "iE2mreYEDVv4"
      },
      "id": "iE2mreYEDVv4",
      "execution_count": null,
      "outputs": []
    },
    {
      "cell_type": "code",
      "execution_count": null,
      "id": "32684c68-5c15-4bae-a7bc-90ea043b7a98",
      "metadata": {
        "id": "32684c68-5c15-4bae-a7bc-90ea043b7a98"
      },
      "outputs": [],
      "source": [
        "\n",
        "import os, re, json, datetime as dt\n",
        "from pathlib import Path\n",
        "import polars as pl\n",
        "import matplotlib.pyplot as plt\n",
        "import matplotlib.dates as mdates\n",
        "from trino.dbapi import connect\n"
      ]
    },
    {
      "cell_type": "code",
      "execution_count": null,
      "id": "58e6fbec-185e-46da-bccf-5267681592dd",
      "metadata": {
        "id": "58e6fbec-185e-46da-bccf-5267681592dd"
      },
      "outputs": [],
      "source": [
        "\n",
        "# ─────────────────────────────────────────────────────────────────────────────\n",
        "# JSON helpers\n",
        "# ─────────────────────────────────────────────────────────────────────────────\n",
        "def _json_default(v):\n",
        "    if isinstance(v, (dt.datetime, dt.date)):\n",
        "        return v.isoformat()\n",
        "    return repr(v)\n",
        "\n",
        "def save_dict(d: dict, path: Path):  path.write_text(json.dumps(d, default=_json_default))\n",
        "def load_dict(path: Path) -> dict:   return json.loads(path.read_text())\n",
        "\n",
        "def df_from_data_d(data_d: dict) -> pl.DataFrame:\n",
        "    df = pl.DataFrame(data_d)\n",
        "    if df[\"publish_date\"].dtype == pl.Utf8:\n",
        "        df = df.with_columns(\n",
        "            pl.col(\"publish_date\")\n",
        "              .str.to_datetime(strict=False)\n",
        "              .dt.date()\n",
        "              .alias(\"publish_date\")\n",
        "        )\n",
        "    return df\n",
        "\n",
        "# ─────────────────────────────────────────────────────────────────────────────\n",
        "# Host/port parser\n",
        "# ─────────────────────────────────────────────────────────────────────────────\n",
        "def _parse_host_port(host: str, port: str, default_port: int = 8080):\n",
        "    host = (host or \"\").strip();  port = (port or \"\").strip()\n",
        "    host = re.sub(r\"^(?:https?|tcp)://\", \"\", host, flags=re.I)\n",
        "    if \":\" in host and not port:\n",
        "        host, port = host.split(\":\", 1)\n",
        "    try:\n",
        "        port_int = int(re.sub(r\"\\D\", \"\", port))\n",
        "    except ValueError:\n",
        "        port_int = default_port\n",
        "    if not (1 <= port_int <= 65_535):\n",
        "        port_int = default_port\n",
        "    return host or \"localhost\", port_int\n"
      ]
    },
    {
      "cell_type": "code",
      "execution_count": null,
      "id": "333b81cc-e92f-4542-8eb4-e9fec4f22829",
      "metadata": {
        "id": "333b81cc-e92f-4542-8eb4-e9fec4f22829"
      },
      "outputs": [],
      "source": [
        "\n",
        "# ─────────────────────────────────────────────────────────────────────────────\n",
        "# 2 ▸ Parameters\n",
        "# ─────────────────────────────────────────────────────────────────────────────\n",
        "LIMIT       = None\n",
        "START_DATE  = \"2025-04-25\"\n",
        "END_DATE    = \"2025-06-29\"\n",
        "JSON_PATH   = Path(\"checkworthy_claim_detection_plot.json\")\n"
      ]
    },
    {
      "cell_type": "code",
      "execution_count": null,
      "id": "b140954b-59e8-4d81-bcb2-6079753c0e1b",
      "metadata": {
        "id": "b140954b-59e8-4d81-bcb2-6079753c0e1b",
        "outputId": "ad9606ae-fb75-4d0b-ead7-8ce88f2ef256"
      },
      "outputs": [
        {
          "name": "stdout",
          "output_type": "stream",
          "text": [
            "🔌 Connecting to Trino at trino:8080, catalog='iceberg'\n"
          ]
        }
      ],
      "source": [
        "\n",
        "# ─────────────────────────────────────────────────────────────────────────────\n",
        "# 3 ▸ Connect to Trino\n",
        "# ─────────────────────────────────────────────────────────────────────────────\n",
        "TRINO_HOST, TRINO_PORT = _parse_host_port(os.getenv(\"TRINO_HOST\"), os.getenv(\"TRINO_PORT\"))\n",
        "TRINO_USER    = os.getenv(\"TRINO_USER\", \"jupyter\")\n",
        "TRINO_CATALOG = os.getenv(\"TRINO_CATALOG\", \"iceberg\")\n",
        "print(f\"🔌 Connecting to Trino at {TRINO_HOST}:{TRINO_PORT}, catalog='{TRINO_CATALOG}'\")\n",
        "\n",
        "conn = connect(host=TRINO_HOST, port=TRINO_PORT, user=TRINO_USER, catalog=TRINO_CATALOG)\n",
        "cur  = conn.cursor()\n"
      ]
    },
    {
      "cell_type": "code",
      "execution_count": null,
      "id": "8d7ec461-9946-42d1-a958-f9fce0e4c587",
      "metadata": {
        "id": "8d7ec461-9946-42d1-a958-f9fce0e4c587",
        "outputId": "b6e50c6a-d16c-435f-90f5-53e778e54498"
      },
      "outputs": [
        {
          "name": "stdout",
          "output_type": "stream",
          "text": [
            "⏳ Executing query…\n",
            "✅ Retrieved 5,810 rows\n"
          ]
        }
      ],
      "source": [
        "\n",
        "# ─────────────────────────────────────────────────────────────────────────────\n",
        "# 4 ▸ Run query\n",
        "# ─────────────────────────────────────────────────────────────────────────────\n",
        "query = \"\"\"\n",
        "SELECT\n",
        "    cn.id           AS id_collected_news,\n",
        "    cn.publish_date,\n",
        "    cn.title        AS title_collected_news,\n",
        "    cn.text,\n",
        "    tccd.title      AS title_checkworthy_claim_detection,   -- ROW(score, label)\n",
        "    tccd.body       AS body_checkworthy_claim_detection,    -- ROW(score, label)\n",
        "    tccd.created_at AS created_at_tccd\n",
        "FROM news.collected_news AS cn\n",
        "JOIN tools.text_checkworthy_claim_detection AS tccd\n",
        "  ON cn.id = tccd.content_id\n",
        "\"\"\"\n",
        "if LIMIT is not None:\n",
        "    query += f\"\\nLIMIT {LIMIT}\"\n",
        "\n",
        "print(\"⏳ Executing query…\")\n",
        "try:\n",
        "    cur.execute(query)\n",
        "    rows    = cur.fetchall()\n",
        "    columns = [c[0] for c in cur.description]\n",
        "finally:\n",
        "    cur.close();  conn.close()\n",
        "\n",
        "if not rows:\n",
        "    raise ValueError(\"No data found.\")\n",
        "print(f\"✅ Retrieved {len(rows):,} rows\")\n"
      ]
    },
    {
      "cell_type": "code",
      "execution_count": null,
      "id": "fe1af8e6-76f8-4651-943b-916d87ee2b0e",
      "metadata": {
        "id": "fe1af8e6-76f8-4651-943b-916d87ee2b0e"
      },
      "outputs": [],
      "source": [
        "\n",
        "# ─────────────────────────────────────────────────────────────────────────────\n",
        "# 5 ▸ Build Polars DataFrame  (robust to mixed types)\n",
        "# ─────────────────────────────────────────────────────────────────────────────\n",
        "assert all(len(r) == len(columns) for r in rows), \"Row/column mismatch\"\n",
        "\n",
        "data_dict = {col: [row[i] for row in rows] for i, col in enumerate(columns)}\n",
        "for col in (\"title_checkworthy_claim_detection\", \"body_checkworthy_claim_detection\"):\n",
        "    data_dict[col] = pl.Series(col, data_dict[col], dtype=pl.Object)\n",
        "\n",
        "df = pl.DataFrame(data_dict, strict=False)\n"
      ]
    },
    {
      "cell_type": "code",
      "execution_count": null,
      "id": "b5fb90a9-2f3a-45e4-af65-8b5da4af23e8",
      "metadata": {
        "id": "b5fb90a9-2f3a-45e4-af65-8b5da4af23e8"
      },
      "outputs": [],
      "source": [
        "\n",
        "# ─────────────────────────────────────────────────────────────────────────────\n",
        "# 6 ▸ Parse ROW(...) → score/label\n",
        "# ─────────────────────────────────────────────────────────────────────────────\n",
        "def _parse_row(v):\n",
        "    if v is None: return (None, None)\n",
        "    if isinstance(v, dict): return (v.get(\"score\"), v.get(\"label\"))\n",
        "    if isinstance(v, tuple) and len(v) == 2: return v\n",
        "    m = re.match(r\"\\(?\\s*(?:score\\s*:\\s*)?([0-9.+\\-eE]+)\\s*,\\s*(?:label\\s*:\\s*)?([0-9]+)\\s*\\)?\", str(v))\n",
        "    return (float(m.group(1)), int(m.group(2))) if m else (None, None)\n",
        "\n",
        "df = df.with_columns([\n",
        "    pl.Series(\"score_title\", [p[0] for p in map(_parse_row, df[\"title_checkworthy_claim_detection\"])]),\n",
        "    pl.Series(\"label_title\", [p[1] for p in map(_parse_row, df[\"title_checkworthy_claim_detection\"])]),\n",
        "    pl.Series(\"score_body\" , [p[0] for p in map(_parse_row, df[\"body_checkworthy_claim_detection\" ])]),\n",
        "    pl.Series(\"label_body\" , [p[1] for p in map(_parse_row, df[\"body_checkworthy_claim_detection\" ])]),\n",
        "])\n"
      ]
    },
    {
      "cell_type": "code",
      "execution_count": null,
      "id": "bd361ec9-258d-4cbe-8f94-ccb02f48ad2d",
      "metadata": {
        "id": "bd361ec9-258d-4cbe-8f94-ccb02f48ad2d",
        "outputId": "0e851b0a-fb60-4d3f-f584-1865b9ece84f"
      },
      "outputs": [
        {
          "name": "stdout",
          "output_type": "stream",
          "text": [
            "After date filter: 5,155 rows\n"
          ]
        }
      ],
      "source": [
        "\n",
        "# ─────────────────────────────────────────────────────────────────────────────\n",
        "# 7 ▸ Date cleaning + range filter (handles any ISO‑8601 string)\n",
        "# ─────────────────────────────────────────────────────────────────────────────\n",
        "df = df.with_columns(\n",
        "        pl.col(\"publish_date\")\n",
        "          .cast(pl.Utf8)               # guarantee string\n",
        "          .str.to_datetime(strict=False)\n",
        "          .dt.date()\n",
        "          .alias(\"publish_date\")\n",
        "     )\\\n",
        "     .filter(pl.col(\"publish_date\").is_not_null())\n",
        "\n",
        "if START_DATE:\n",
        "    df = df.filter(pl.col(\"publish_date\") >= dt.date.fromisoformat(START_DATE))\n",
        "if END_DATE:\n",
        "    df = df.filter(pl.col(\"publish_date\") <= dt.date.fromisoformat(END_DATE))\n",
        "print(f\"After date filter: {df.height:,} rows\")\n"
      ]
    },
    {
      "cell_type": "code",
      "execution_count": null,
      "id": "da4d1156-4dfd-4b05-a73d-575e147b977d",
      "metadata": {
        "id": "da4d1156-4dfd-4b05-a73d-575e147b977d",
        "outputId": "5455bc18-7e87-43f7-f5bc-482bb0581e71"
      },
      "outputs": [
        {
          "name": "stdout",
          "output_type": "stream",
          "text": [
            "shape: (5, 3)\n",
            "┌──────────────┬───────────────┬────────────────┐\n",
            "│ publish_date ┆ body_positive ┆ title_positive │\n",
            "│ ---          ┆ ---           ┆ ---            │\n",
            "│ date         ┆ u32           ┆ u32            │\n",
            "╞══════════════╪═══════════════╪════════════════╡\n",
            "│ 2025-04-26   ┆ 0             ┆ 0              │\n",
            "│ 2025-04-28   ┆ 0             ┆ 0              │\n",
            "│ 2025-04-29   ┆ 2             ┆ 6              │\n",
            "│ 2025-04-30   ┆ 11            ┆ 96             │\n",
            "│ 2025-05-01   ┆ 6             ┆ 45             │\n",
            "└──────────────┴───────────────┴────────────────┘\n",
            "💾 Saved JSON → /home/kadkhoda/checkworthy_claim_detection_plot.json\n"
          ]
        }
      ],
      "source": [
        "\n",
        "# ─────────────────────────────────────────────────────────────────────────────\n",
        "# 8 ▸ Aggregate daily positives\n",
        "# ─────────────────────────────────────────────────────────────────────────────\n",
        "daily = (df.group_by(\"publish_date\")\n",
        "           .agg([\n",
        "               (pl.col(\"label_body\")  == 1).sum().alias(\"body_positive\"),\n",
        "               (pl.col(\"label_title\") == 1).sum().alias(\"title_positive\")\n",
        "           ])\n",
        "           .sort(\"publish_date\"))\n",
        "print(daily.head())\n",
        "\n",
        "# ─────────────────────────────────────────────────────────────────────────────\n",
        "# 9 ▸ Save plot metadata ➜ JSON\n",
        "# ─────────────────────────────────────────────────────────────────────────────\n",
        "plot_meta = {\n",
        "    \"data\"      : daily.to_dict(as_series=False),\n",
        "    \"title\"     : \"Daily count of positive body and title detected\",\n",
        "    \"labels\"    : [\"Body positive (label = 1)\", \"Title positive (label = 1)\"],\n",
        "    \"color_map\" : {\"body_positive\": \"seagreen\", \"title_positive\": \"lightblue\"},\n",
        "    \"chart_type\": \"grouped_bar\",\n",
        "    \"platform\"  : \"News\",\n",
        "}\n",
        "save_dict(plot_meta, JSON_PATH)\n",
        "print(f\"💾 Saved JSON → {JSON_PATH.resolve()}\")\n"
      ]
    },
    {
      "cell_type": "code",
      "execution_count": null,
      "id": "e18d5246-bfd3-4a0d-ad0e-e1f9bedf6390",
      "metadata": {
        "id": "e18d5246-bfd3-4a0d-ad0e-e1f9bedf6390",
        "outputId": "0cb36bb6-cb41-47c7-a2ce-80eaa3396b37"
      },
      "outputs": [
        {
          "data": {
            "image/png": "[encoded data removed]",
            "text/plain": [
              "<Figure size 1200x600 with 1 Axes>"
            ]
          },
          "metadata": {},
          "output_type": "display_data"
        }
      ],
      "source": [
        "\n",
        "# ─────────────────────────────────────────────────────────────────────────────\n",
        "# 10 ▸ Reload JSON & plot\n",
        "# ─────────────────────────────────────────────────────────────────────────────\n",
        "meta = load_dict(JSON_PATH)\n",
        "df_plot = df_from_data_d(meta[\"data\"])\n",
        "\n",
        "dates   = df_plot[\"publish_date\"].to_list()\n",
        "body    = df_plot[\"body_positive\"].to_list()\n",
        "title   = df_plot[\"title_positive\"].to_list()\n",
        "x_dates = mdates.date2num([dt.datetime(d.year, d.month, d.day) for d in dates])\n",
        "\n",
        "plt.rcParams.update({\"axes.grid\": False, \"figure.facecolor\": \"white\", \"axes.facecolor\": \"white\"})\n",
        "fig, ax = plt.subplots(figsize=(12, 6))\n",
        "\n",
        "bar_w = 0.4\n",
        "ax.bar(x_dates - bar_w/2, body,  width=bar_w, color=meta[\"color_map\"][\"body_positive\"],  label=meta[\"labels\"][0])\n",
        "ax.bar(x_dates + bar_w/2, title, width=bar_w, color=meta[\"color_map\"][\"title_positive\"], label=meta[\"labels\"][1])\n",
        "\n",
        "ax.set_xlabel(\"Publish date\")\n",
        "ax.set_ylabel(\"Number of articles (label = 1)\")\n",
        "ax.set_title(meta[\"title\"], fontsize=14)\n",
        "\n",
        "ax.xaxis.set_major_locator(mdates.DayLocator(interval=15))\n",
        "ax.xaxis.set_major_formatter(mdates.DateFormatter(\"%Y-%m-%d\"))\n",
        "plt.setp(ax.get_xticklabels(), rotation=45, ha=\"right\")\n",
        "\n",
        "ax.legend()\n",
        "plt.tight_layout()\n",
        "plt.show()\n"
      ]
    }
  ],
  "metadata": {
    "kernelspec": {
      "display_name": "Python 3 (ipykernel)",
      "language": "python",
      "name": "python3"
    },
    "language_info": {
      "codemirror_mode": {
        "name": "ipython",
        "version": 3
      },
      "file_extension": ".py",
      "mimetype": "text/x-python",
      "name": "python",
      "nbconvert_exporter": "python",
      "pygments_lexer": "ipython3",
      "version": "3.10.11"
    },
    "colab": {
      "provenance": []
    }
  },
  "nbformat": 4,
  "nbformat_minor": 5
}