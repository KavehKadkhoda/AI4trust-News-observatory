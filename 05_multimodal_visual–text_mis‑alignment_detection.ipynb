{
  "cells": [
    {
      "cell_type": "markdown",
      "source": [
        "### 🖼️ 🔤 Visual–Text Mis‑alignment Detection\n",
        "\n",
        "This tool spots news items whose **image does not match the headline or body text**.\n",
        "\n",
        "| What it does | Details |\n",
        "|--------------|---------|\n",
        "| **Inputs**   | Main image · headline · lead/body paragraph (8 EU languages) |\n",
        "| **Outputs**  | `aligned` or `misaligned` + confidence (0–1) |\n",
        "| **Model**    | Dual‑encoder (CLIP‑style) fine‑tuned on mis‑alignment pairs |\n",
        "| **Goal**     | Surface misleading thumbnails, recycled photos, or click‑bait imagery |\n",
        "\n",
        "**Notebook flow**\n",
        "\n",
        "1. Batch‑send each article’s image + text to the API  \n",
        "2. Collect predictions\n",
        "3. Aggregate daily *Aligned vs Misaligned* counts  \n",
        "4. Save `aligned_vs_misaligned_daily.json`  \n",
        "5. Plot a stacked bar chart to visualise trends\n"
      ],
      "metadata": {
        "id": "UC4mOA91PDff"
      },
      "id": "UC4mOA91PDff"
    },
    {
      "cell_type": "code",
      "execution_count": null,
      "id": "283ae337-f1cb-4310-b98d-a4a22fe7f639",
      "metadata": {
        "id": "283ae337-f1cb-4310-b98d-a4a22fe7f639",
        "outputId": "fa989271-fda8-4552-a0fc-ee8ad06d3af5"
      },
      "outputs": [
        {
          "name": "stdout",
          "output_type": "stream",
          "text": [
            "Note: you may need to restart the kernel to use updated packages.\n"
          ]
        }
      ],
      "source": [
        "# ╔══════════════════════════════════════════════════════════════════════════╗\n",
        "# ║  Multimodal Visual‑Text Mis‑alignment (MVTMD) – Full Analytics Notebook  ║\n",
        "# ╚══════════════════════════════════════════════════════════════════════════╝\n",
        "# ▸ Works from a fresh session – only needs TRINO_HOST, TRINO_USER, TRINO_CATALOG env‑vars\n",
        "\n",
        "# ──────────────────────────────────────────────────────────────────────────\n",
        "# 1 ▸ Install runtime dependencies (comment‑out after first run)\n",
        "# ──────────────────────────────────────────────────────────────────────────\n",
        "%pip install -q trino==0.332.0 trino[sqlalchemy] pandas matplotlib scikit-learn numpy\n"
      ]
    },
    {
      "cell_type": "code",
      "execution_count": null,
      "id": "d5023990-a56f-4315-9973-3180e261b1ad",
      "metadata": {
        "id": "d5023990-a56f-4315-9973-3180e261b1ad"
      },
      "outputs": [],
      "source": [
        "# ──────────────────────────────────────────────────────────────────────────\n",
        "# 2 ▸ Imports, Utilities & Plot Style\n",
        "# ──────────────────────────────────────────────────────────────────────────\n",
        "import os, re, warnings, json, datetime as dt\n",
        "from pathlib import Path\n",
        "from typing import Optional, Tuple\n",
        "\n",
        "import numpy as np\n",
        "import pandas as pd\n",
        "import matplotlib.pyplot as plt\n",
        "import matplotlib.dates as mdates\n",
        "import matplotlib.colors as mcolors\n"
      ]
    },
    {
      "cell_type": "code",
      "execution_count": null,
      "id": "772ffb57-bffc-4941-afb8-65c6ace21db0",
      "metadata": {
        "id": "772ffb57-bffc-4941-afb8-65c6ace21db0"
      },
      "outputs": [],
      "source": [
        "\n",
        "from sklearn.metrics import precision_recall_curve, average_precision_score\n",
        "from trino.dbapi import connect\n",
        "\n",
        "# JSON helper functions (from Code 2)\n",
        "def _json_default(value):\n",
        "    \"\"\"JSON serializer for date/time objects (returns ISO format).\"\"\"\n",
        "    if isinstance(value, (dt.datetime, dt.date)):\n",
        "        return value.isoformat()\n",
        "    return repr(value)\n",
        "\n",
        "def save_dict(d: dict, path: Path):\n",
        "    \"\"\"Save a dictionary to a file in JSON format.\"\"\"\n",
        "    path.write_text(json.dumps(d, default=_json_default))\n",
        "\n",
        "def load_dict(path: Path) -> dict:\n",
        "    \"\"\"Load a dictionary from a JSON file.\"\"\"\n",
        "    return json.loads(path.read_text())\n",
        "\n",
        "# Host/port parser (from Code 2)\n",
        "def _parse_host_port(host: Optional[str], port: Optional[str], default_port: int = 8080) -> Tuple[str, int]:\n",
        "    \"\"\"Parse combined host and port information from environment variables.\"\"\"\n",
        "    host = (host or \"\").strip()\n",
        "    port = (port or \"\").strip()\n",
        "    # Remove protocol prefixes like http:// or tcp://\n",
        "    host = re.sub(r\"^(?:https?|tcp)://\", \"\", host, flags=re.I)\n",
        "    # If host string contains \"host:port\" and port is not given separately\n",
        "    if \":\" in host and not port:\n",
        "        host, port = host.split(\":\", 1)\n",
        "    # Extract port number or use default\n",
        "    try:\n",
        "        port_int = int(re.sub(r\"\\D\", \"\", port))\n",
        "    except ValueError:\n",
        "        port_int = default_port\n",
        "    # Ensure port is in valid range; otherwise use default\n",
        "    if not (1 <= port_int <= 65_535):\n",
        "        port_int = default_port\n",
        "    return host or \"localhost\", port_int\n",
        "\n",
        "# Configure warnings and plot style\n",
        "warnings.filterwarnings(\"ignore\", category=RuntimeWarning)\n",
        "plt.style.use(\"default\")\n"
      ]
    },
    {
      "cell_type": "code",
      "execution_count": null,
      "id": "69dee430-62f4-4aa5-a9b4-33a0eb70baa9",
      "metadata": {
        "id": "69dee430-62f4-4aa5-a9b4-33a0eb70baa9"
      },
      "outputs": [],
      "source": [
        "\n",
        "# ──────────────────────────────────────────────────────────────────────────\n",
        "# 3 ▸ USER INPUTS – adjust freely\n",
        "# ──────────────────────────────────────────────────────────────────────────\n",
        "START_DATE   = \"2025-04-25\"\n",
        "END_DATE     = \"2025-06-29\"\n",
        "LIMIT        = None           # None = no limit on query results\n",
        "TOP_N_LANG   = 12\n",
        "THRESHOLD    = 0.5\n",
        "ROLLING_DAYS = 7\n"
      ]
    },
    {
      "cell_type": "code",
      "execution_count": null,
      "id": "183c02a7-26c4-4722-9ecc-36a34fd61a5f",
      "metadata": {
        "id": "183c02a7-26c4-4722-9ecc-36a34fd61a5f",
        "outputId": "ff20938a-65d0-42a2-fec9-2aab31312507"
      },
      "outputs": [
        {
          "name": "stdout",
          "output_type": "stream",
          "text": [
            "🔌 Connecting to Trino at trino:8080, catalog='iceberg' (user=trino)\n",
            "Executing query …\n",
            "✅ Fetched 3,521 rows.\n"
          ]
        }
      ],
      "source": [
        "\n",
        "# ──────────────────────────────────────────────────────────────────────────\n",
        "# 4 ▸ Connect to Trino & fetch data\n",
        "# ──────────────────────────────────────────────────────────────────────────\n",
        "# Prepare Trino connection parameters using environment variables (with defaults)\n",
        "TRINO_HOST, TRINO_PORT = _parse_host_port(os.getenv(\"TRINO_HOST\"), os.getenv(\"TRINO_PORT\"))\n",
        "TRINO_USER    = os.getenv(\"TRINO_USER\", \"jupyter\")\n",
        "TRINO_CATALOG = os.getenv(\"TRINO_CATALOG\", \"iceberg\")\n",
        "\n",
        "print(f\"🔌 Connecting to Trino at {TRINO_HOST}:{TRINO_PORT}, catalog='{TRINO_CATALOG}' (user={TRINO_USER})\")\n",
        "conn = connect(host=TRINO_HOST, port=TRINO_PORT, user=TRINO_USER, catalog=TRINO_CATALOG)\n",
        "cur  = conn.cursor()\n",
        "\n",
        "# Define and execute SQL query\n",
        "sql = \"\"\"\n",
        "SELECT\n",
        "    cn.id,\n",
        "    cn.language,\n",
        "    cn.publish_date,\n",
        "    mvtmd.score,\n",
        "    mvtmd.prediction\n",
        "FROM   news.collected_news AS cn\n",
        "JOIN   tools.multimodal_visual_text_misalignment_detection AS mvtmd\n",
        "       ON cn.id = mvtmd.content_id\n",
        "\"\"\"\n",
        "if LIMIT:\n",
        "    sql += f\"\\nLIMIT {LIMIT}\"\n",
        "print(\"Executing query …\")\n",
        "cur.execute(sql)\n",
        "df = pd.DataFrame(cur.fetchall(), columns=[c[0] for c in cur.description])\n",
        "cur.close(); conn.close()\n",
        "print(f\"✅ Fetched {len(df):,} rows.\")\n"
      ]
    },
    {
      "cell_type": "code",
      "execution_count": null,
      "id": "ffc91f35-5887-4e1e-88f0-927f61061c19",
      "metadata": {
        "id": "ffc91f35-5887-4e1e-88f0-927f61061c19",
        "outputId": "99d93e9f-0ca9-428d-9dee-93c3c4dcdfc2"
      },
      "outputs": [
        {
          "name": "stdout",
          "output_type": "stream",
          "text": [
            "After date filter: 2,314 rows remain.\n"
          ]
        }
      ],
      "source": [
        "\n",
        "# ──────────────────────────────────────────────────────────────────────────\n",
        "# 5 ▸ Cleansing & optional date filter\n",
        "# ──────────────────────────────────────────────────────────────────────────\n",
        "df['language']     = df['language'].fillna('unknown')\n",
        "df['prediction']   = df['prediction'].astype(int)\n",
        "df['score']        = pd.to_numeric(df['score'], errors='coerce')\n",
        "df['publish_date'] = pd.to_datetime(df['publish_date'], errors='coerce', utc=True)\n",
        "df                 = df.dropna(subset=['score', 'publish_date'])\n",
        "\n",
        "if START_DATE and END_DATE:\n",
        "    mask = df['publish_date'].between(pd.to_datetime(START_DATE, utc=True),\n",
        "                                      pd.to_datetime(END_DATE,   utc=True))\n",
        "    df = df[mask]\n",
        "    print(f\"After date filter: {len(df):,} rows remain.\")\n"
      ]
    },
    {
      "cell_type": "code",
      "execution_count": null,
      "id": "8a72efb4-5be8-42d3-98b5-6aebe8248a72",
      "metadata": {
        "id": "8a72efb4-5be8-42d3-98b5-6aebe8248a72"
      },
      "outputs": [],
      "source": [
        "\n",
        "# ──────────────────────────────────────────────────────────────────────────\n",
        "# 6 ▸ TIME‑SERIES VISUALISATIONS\n",
        "# ──────────────────────────────────────────────────────────────────────────\n",
        "ts_df = df.set_index('publish_date').sort_index()\n",
        "\n",
        "# 6‑B. Diverging daily counts of predictions (0 = aligned, 1 = misaligned)\n",
        "# --------------------------------------------------------------------------\n",
        "daily_counts = (\n",
        "    ts_df.groupby([pd.Grouper(freq='D'), 'prediction'])\n",
        "         .size()\n",
        "         .unstack(fill_value=0)\n",
        "         .sort_index()\n",
        ")\n",
        "# Ensure both prediction columns (0 and 1) exist, fill missing with 0\n",
        "daily_counts = daily_counts.reindex(columns=[0, 1], fill_value=0)\n"
      ]
    },
    {
      "cell_type": "code",
      "execution_count": null,
      "id": "0aee200f-1770-4b15-93e7-cb822f6a027d",
      "metadata": {
        "id": "0aee200f-1770-4b15-93e7-cb822f6a027d",
        "outputId": "6c6961be-e53d-43e2-af1b-45f673453927"
      },
      "outputs": [
        {
          "name": "stdout",
          "output_type": "stream",
          "text": [
            "💾 Saved JSON → /home/kadkhoda/aligned_vs_misaligned_daily.json\n"
          ]
        }
      ],
      "source": [
        "\n",
        "# Save daily diverging bar chart data & metadata to JSON (as in Code 2)\n",
        "daily_counts.index.name = \"publish_date\"  # name the index for clarity\n",
        "daily_counts_df = daily_counts.reset_index().rename(columns={0: \"aligned\", 1: \"misaligned\"})\n",
        "plot_data = daily_counts_df.to_dict(orient=\"list\")  # convert data to column-wise dict\n",
        "color_map = {\n",
        "    \"aligned\":   mcolors.to_hex(\"seagreen\"),   # color for aligned (0)\n",
        "    \"misaligned\": mcolors.to_hex(\"indianred\")  # color for misaligned (1)\n",
        "}\n",
        "plot_meta = {\n",
        "    \"data\"      : plot_data,\n",
        "    \"title\"     : \"Daily aligned vs mis‑aligned volume\",\n",
        "    \"chart_type\": \"diverging_bar\",\n",
        "    \"platform\"  : \"News\",\n",
        "    \"color_map\" : color_map\n",
        "}\n",
        "json_path = Path(\"aligned_vs_misaligned_daily.json\")\n",
        "save_dict(plot_meta, json_path)\n",
        "print(f\"💾 Saved JSON → {json_path.resolve()}\")\n"
      ]
    },
    {
      "cell_type": "code",
      "execution_count": null,
      "id": "383297d6-0b1a-4e1c-b997-b5220c67efea",
      "metadata": {
        "id": "383297d6-0b1a-4e1c-b997-b5220c67efea",
        "outputId": "ed1edaee-a610-48ee-d15b-2d5df08e607b"
      },
      "outputs": [
        {
          "data": {
            "image/png": "[encoded data removed]",
            "text/plain": [
              "<Figure size 1200x400 with 1 Axes>"
            ]
          },
          "metadata": {},
          "output_type": "display_data"
        }
      ],
      "source": [
        "\n",
        "# Load the JSON and reproduce the plot\n",
        "meta = load_dict(json_path)\n",
        "# Reconstruct DataFrame from saved data\n",
        "df_loaded = pd.DataFrame(meta[\"data\"])\n",
        "# Parse dates back to datetime objects and set as DataFrame index\n",
        "df_loaded[\"publish_date\"] = pd.to_datetime(df_loaded[\"publish_date\"], utc=True)\n",
        "df_loaded = df_loaded.set_index(\"publish_date\").sort_index()\n",
        "\n",
        "# Prepare to plot using reloaded data\n",
        "fig, ax = plt.subplots(figsize=(12, 4))\n",
        "bar_width = 0.6  # narrower bars (width less than 1 day)\n",
        "# Plot aligned counts above x-axis and misaligned counts below (negative)\n",
        "ax.bar(df_loaded.index, df_loaded[\"aligned\"], width=bar_width,\n",
        "       color=meta[\"color_map\"][\"aligned\"], label=\"Aligned (0)\")\n",
        "ax.bar(df_loaded.index, -df_loaded[\"misaligned\"], width=bar_width,\n",
        "       color=meta[\"color_map\"][\"misaligned\"], label=\"Misaligned (1)\")\n",
        "\n",
        "# Plot the difference line and a horizontal baseline at 0\n",
        "diff = df_loaded[\"aligned\"] - df_loaded[\"misaligned\"]\n",
        "ax.plot(df_loaded.index, diff, c=\"k\", ls=\"--\")\n",
        "ax.axhline(0, color=\"yellow\")\n",
        "\n",
        "# Title, labels, and legend (using metadata title)\n",
        "ax.set_title(meta[\"title\"])\n",
        "ax.set_ylabel(\"Articles\")\n",
        "locator   = mdates.DayLocator(interval=15)\n",
        "formatter = mdates.DateFormatter('%d-%m-%Y')\n",
        "ax.xaxis.set_major_locator(locator)\n",
        "ax.xaxis.set_major_formatter(formatter)\n",
        "fig.autofmt_xdate()  # rotate date labels for readability\n",
        "\n",
        "# Use absolute values for y-axis tick labels (so misaligned shows as positive number)\n",
        "yticks = ax.get_yticks()\n",
        "ax.set_yticks(yticks)\n",
        "ax.set_yticklabels([int(abs(t)) for t in yticks])\n",
        "\n",
        "ax.legend(title=\"Prediction\")\n",
        "plt.tight_layout()\n",
        "plt.show()\n",
        "\n",
        "\n"
      ]
    }
  ],
  "metadata": {
    "kernelspec": {
      "display_name": "Python 3 (ipykernel)",
      "language": "python",
      "name": "python3"
    },
    "language_info": {
      "codemirror_mode": {
        "name": "ipython",
        "version": 3
      },
      "file_extension": ".py",
      "mimetype": "text/x-python",
      "name": "python",
      "nbconvert_exporter": "python",
      "pygments_lexer": "ipython3",
      "version": "3.10.11"
    },
    "colab": {
      "provenance": []
    }
  },
  "nbformat": 4,
  "nbformat_minor": 5
}